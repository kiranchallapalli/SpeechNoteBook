{
 "cells": [
  {
   "cell_type": "markdown",
   "metadata": {},
   "source": [
    "### (Optional) Install Watson libraries"
   ]
  },
  {
   "cell_type": "code",
   "execution_count": null,
   "metadata": {},
   "outputs": [],
   "source": [
    "!pip install --upgrade \"ibm-watson>=4.1.0\""
   ]
  },
  {
   "cell_type": "markdown",
   "metadata": {},
   "source": [
    "### Speech credentials"
   ]
  },
  {
   "cell_type": "code",
   "execution_count": null,
   "metadata": {},
   "outputs": [],
   "source": [
    "import json\n",
    "filename = \"credentials.json\"\n",
    "credentials = ''\n",
    "with open(filename) as json_file:\n",
    "    credentials = json.load(json_file)\n",
    "json_file.close()\n",
    "\n",
    "custom_lang_broadband_model_id=credentials['custom_lang_broadband_model_id']\n",
    "custom_acoustic_broadband_model_id = credentials['custom_acoustic_broadband_model_id']"
   ]
  },
  {
   "cell_type": "markdown",
   "metadata": {},
   "source": [
    "### Setup and configure speech credentials"
   ]
  },
  {
   "cell_type": "code",
   "execution_count": null,
   "metadata": {},
   "outputs": [],
   "source": [
    "from ibm_watson import SpeechToTextV1\n",
    "from ibm_cloud_sdk_core.authenticators import IAMAuthenticator\n",
    "\n",
    "authenticator = IAMAuthenticator(credentials['apikey'])\n",
    "speech_to_text = SpeechToTextV1(\n",
    "    authenticator=authenticator\n",
    ")\n",
    "\n",
    "speech_to_text.set_service_url(credentials['url'])\n"
   ]
  },
  {
   "cell_type": "markdown",
   "metadata": {},
   "source": [
    "### (Optional) List all the available speech models"
   ]
  },
  {
   "cell_type": "code",
   "execution_count": null,
   "metadata": {},
   "outputs": [],
   "source": [
    "import json\n",
    "\n",
    "speech_models = speech_to_text.list_models().get_result()\n",
    "print(json.dumps(speech_models, indent=2))"
   ]
  },
  {
   "cell_type": "markdown",
   "metadata": {},
   "source": [
    "### (Optional) Print out the details of the Broadband model"
   ]
  },
  {
   "cell_type": "code",
   "execution_count": null,
   "metadata": {},
   "outputs": [],
   "source": [
    "import json\n",
    "speech_model = speech_to_text.get_model('en-US_BroadbandModel').get_result()\n",
    "print(json.dumps(speech_model, indent=2))"
   ]
  },
  {
   "cell_type": "markdown",
   "metadata": {},
   "source": [
    "### Transcribe using the base speech (Broadband US English) model"
   ]
  },
  {
   "cell_type": "code",
   "execution_count": null,
   "metadata": {},
   "outputs": [],
   "source": [
    "from os.path import join, dirname\n",
    "\n",
    "files = ['/Users/kiranc/Box/$Work/Offerings/DS&AI/Watson/Clients/Customers/Industrial/Tata Steel/2019-12 Speech/Production Line QA/debashis2.mp3']\n",
    "for file in files:\n",
    "    with open(join(dirname('.'), './.', file),\n",
    "                   'rb') as audio_file:\n",
    "        speech_recognition_results = speech_to_text.recognize(\n",
    "            audio=audio_file,\n",
    "            content_type='audio/mp3',\n",
    "            timestamps=True,\n",
    "            word_alternatives_threshold=0.9,\n",
    "            keywords=['mother coil', 'start length', 'drive side quarter', 'driver impression', 'severity'],\n",
    "            keywords_threshold=0.5\n",
    "        ).get_result()\n",
    "    #print(json.dumps(speech_recognition_results, indent=2))"
   ]
  },
  {
   "cell_type": "markdown",
   "metadata": {},
   "source": [
    "### (Optional) Print the transcription"
   ]
  },
  {
   "cell_type": "code",
   "execution_count": null,
   "metadata": {},
   "outputs": [],
   "source": [
    "transcript = ''\n",
    "for chunks in speech_recognition_results['results']:\n",
    "    if 'alternatives' in chunks.keys():\n",
    "        alternatives = chunks['alternatives'][0]\n",
    "        if 'transcript' in alternatives:\n",
    "            transcript = transcript + alternatives['transcript']\n",
    "print(transcript)"
   ]
  },
  {
   "cell_type": "markdown",
   "metadata": {},
   "source": [
    "### (Optional) Print the customization ID"
   ]
  },
  {
   "cell_type": "code",
   "execution_count": null,
   "metadata": {},
   "outputs": [],
   "source": [
    "# Custom Language model\n",
    "language_model = speech_to_text.create_language_model(\n",
    "    'TSL language model',\n",
    "    'en-US_BroadbandModel',\n",
    "    description='TSL Production Line QA').get_result()\n",
    "print(json.dumps(language_model, indent=2))\n",
    "\n",
    "#speech_to_text.delete_language_model(language_model['customization_id'])"
   ]
  },
  {
   "cell_type": "markdown",
   "metadata": {},
   "source": [
    "### (Optional) Print all the language models"
   ]
  },
  {
   "cell_type": "code",
   "execution_count": null,
   "metadata": {},
   "outputs": [],
   "source": [
    "language_models = speech_to_text.list_language_models().get_result()\n",
    "print(json.dumps(language_models, indent=2))"
   ]
  },
  {
   "cell_type": "markdown",
   "metadata": {},
   "source": [
    "### Upgrade the language model"
   ]
  },
  {
   "cell_type": "code",
   "execution_count": null,
   "metadata": {},
   "outputs": [],
   "source": [
    "speech_to_text.upgrade_language_model(custom_lang_broadband_model_id)"
   ]
  },
  {
   "cell_type": "markdown",
   "metadata": {},
   "source": [
    "### Add text corpus file for language training"
   ]
  },
  {
   "cell_type": "code",
   "execution_count": null,
   "metadata": {},
   "outputs": [],
   "source": [
    "with open(join(dirname('.'), './.', '<FILE_PATH>/debashis2.txt'),\n",
    "               'rb') as corpus_file:\n",
    "    speech_to_text.add_corpus(\n",
    "        custom_lang_broadband_model_id,\n",
    "        'debashis2',\n",
    "        corpus_file\n",
    "    )"
   ]
  },
  {
   "cell_type": "markdown",
   "metadata": {},
   "source": [
    "### (Optional) Print the details of the corpora"
   ]
  },
  {
   "cell_type": "code",
   "execution_count": null,
   "metadata": {},
   "outputs": [],
   "source": [
    "corpora = speech_to_text.list_corpora(custom_lang_broadband_model_id).get_result()\n",
    "print(json.dumps(corpora, indent=2))"
   ]
  },
  {
   "cell_type": "markdown",
   "metadata": {},
   "source": [
    "### Print all the custom words"
   ]
  },
  {
   "cell_type": "code",
   "execution_count": null,
   "metadata": {},
   "outputs": [],
   "source": [
    "words = speech_to_text.list_words(custom_lang_broadband_model_id).get_result()\n",
    "print(json.dumps(words, indent=2))"
   ]
  },
  {
   "cell_type": "markdown",
   "metadata": {},
   "source": [
    "### Add grammar words"
   ]
  },
  {
   "cell_type": "code",
   "execution_count": null,
   "metadata": {},
   "outputs": [],
   "source": [
    "with open(join(dirname('.'), './.', 'Tata Steel Artifacts/productionWords.abnf'),\n",
    "               'rb') as grammar_file:\n",
    "    speech_to_text.add_grammar(\n",
    "        custom_lang_broadband_model_id,\n",
    "        'TSL-Prod-Line-QA-2-abnf',\n",
    "        grammar_file,\n",
    "        'application/srgs'\n",
    "    )\n",
    "# Poll for grammar status."
   ]
  },
  {
   "cell_type": "markdown",
   "metadata": {},
   "source": [
    "### Check status of the custom language model -- has to be \n",
    "#### available"
   ]
  },
  {
   "cell_type": "code",
   "execution_count": null,
   "metadata": {},
   "outputs": [],
   "source": [
    "# Get status of the language model - wait until it is 'available'\n",
    "language_models = speech_to_text.list_language_models().get_result()\n",
    "models = language_models[\"customizations\"]\n",
    "#print(json.dumps(language_models, indent=2))\n",
    "for model in models:\n",
    "    if model['customization_id'] == custom_lang_broadband_model_id:\n",
    "        print (model['status'])"
   ]
  },
  {
   "cell_type": "markdown",
   "metadata": {},
   "source": [
    "### (Optional) Print all the acoustic models"
   ]
  },
  {
   "cell_type": "code",
   "execution_count": null,
   "metadata": {},
   "outputs": [],
   "source": [
    "acoustic_models = speech_to_text.list_acoustic_models().get_result()\n",
    "print(json.dumps(acoustic_models, indent=2))"
   ]
  },
  {
   "cell_type": "markdown",
   "metadata": {},
   "source": [
    "### List all the audio files used for acoustic modeling"
   ]
  },
  {
   "cell_type": "code",
   "execution_count": null,
   "metadata": {},
   "outputs": [],
   "source": [
    "audio_resources = speech_to_text.list_audio(custom_acoustic_broadband_model_id).get_result()\n",
    "print(json.dumps(audio_resources, indent=2))"
   ]
  },
  {
   "cell_type": "markdown",
   "metadata": {},
   "source": [
    "### (Optional) Add any additional audio file to the acoustic model"
   ]
  },
  {
   "cell_type": "code",
   "execution_count": null,
   "metadata": {},
   "outputs": [],
   "source": [
    "from os.path import join, dirname\n",
    "\n",
    "audioFilePath = '<FILE_PATH>/debashis2.mp3'\n",
    "\n",
    "with open(join(dirname('.'), './.', audioFilePath),\n",
    "               'rb') as audio_file:\n",
    "    speech_to_text.add_audio(\n",
    "        custom_acoustic_broadband_model_id,\n",
    "        'debashis2.mp3',\n",
    "        audio_file,\n",
    "        content_type='audio/mp3'\n",
    "    )\n",
    "# Poll for audio status."
   ]
  },
  {
   "cell_type": "markdown",
   "metadata": {},
   "source": [
    "### List the details of the acoustic model"
   ]
  },
  {
   "cell_type": "code",
   "execution_count": null,
   "metadata": {},
   "outputs": [],
   "source": [
    "acoustic_model = speech_to_text.get_acoustic_model(custom_acoustic_broadband_model_id).get_result()\n",
    "print(json.dumps(acoustic_model, indent=2))"
   ]
  },
  {
   "cell_type": "markdown",
   "metadata": {},
   "source": [
    "### Upgrade the acoustic model"
   ]
  },
  {
   "cell_type": "code",
   "execution_count": null,
   "metadata": {},
   "outputs": [],
   "source": [
    "speech_to_text.upgrade_acoustic_model(custom_acoustic_broadband_model_id)"
   ]
  },
  {
   "cell_type": "markdown",
   "metadata": {},
   "source": [
    "### Train the acoustic model"
   ]
  },
  {
   "cell_type": "code",
   "execution_count": null,
   "metadata": {},
   "outputs": [],
   "source": [
    "speech_to_text.train_acoustic_model(custom_acoustic_broadband_model_id)#,custom_lang_narrowband_model_id)"
   ]
  },
  {
   "cell_type": "markdown",
   "metadata": {},
   "source": [
    "###  Check status of the custom acoustic model -- has to be \n",
    "#### available"
   ]
  },
  {
   "cell_type": "code",
   "execution_count": null,
   "metadata": {},
   "outputs": [],
   "source": [
    "# Get status of the acoustic model - wait until it is 'available'\n",
    "acoustic_models = speech_to_text.list_acoustic_models().get_result()\n",
    "models = acoustic_models[\"customizations\"]\n",
    "\n",
    "import time\n",
    "\n",
    "statusNotAvailable = True\n",
    "while statusNotAvailable:    \n",
    "    #print(json.dumps(language_models, indent=2))\n",
    "    for model in models:\n",
    "        if model['customization_id'] == custom_acoustic_broadband_model_id: \n",
    "            if model['status'] == 'available':\n",
    "                print(model['status'])\n",
    "                statusNotAvailable = False\n",
    "                break\n",
    "            else:\n",
    "                time.sleep(15)\n",
    "                print(model['status'])"
   ]
  },
  {
   "cell_type": "markdown",
   "metadata": {},
   "source": [
    "### Run transcription using the custom acoustic & language models"
   ]
  },
  {
   "cell_type": "code",
   "execution_count": null,
   "metadata": {},
   "outputs": [],
   "source": [
    "files = ['<FILE_PATH>/dhawandls.mp3']\n",
    "for file in files:\n",
    "    with open(join(dirname('.'), './.', file),\n",
    "                   'rb') as audio_file:\n",
    "        speech_recognition_results = speech_to_text.recognize(\n",
    "            audio=audio_file,\n",
    "            content_type='audio/mp3',\n",
    "            model='en-US_BroadbandModel',\n",
    "            customization_id=custom_lang_broadband_model_id,\n",
    "            acoustic_customization_id=custom_acoustic_broadband_model_id,\n",
    "            timestamps=True,\n",
    "            word_alternatives_threshold=0.9,\n",
    "            keywords=['mother coil', 'start length', 'drive side quarter', 'driver impression', 'severity'],\n",
    "            keywords_threshold=0.5).get_result()\n",
    "    print(json.dumps(speech_recognition_results, indent=2))"
   ]
  },
  {
   "cell_type": "markdown",
   "metadata": {},
   "source": [
    "### Print the transcript from the custom model"
   ]
  },
  {
   "cell_type": "code",
   "execution_count": null,
   "metadata": {},
   "outputs": [],
   "source": [
    "transcript2 = ''\n",
    "for chunks in speech_recognition_results['results']:\n",
    "    if 'alternatives' in chunks.keys():\n",
    "        alternatives = chunks['alternatives'][0]\n",
    "        if 'transcript' in alternatives:\n",
    "            transcript2 = transcript2 + alternatives['transcript']\n",
    "print(transcript2)"
   ]
  },
  {
   "cell_type": "code",
   "execution_count": null,
   "metadata": {},
   "outputs": [],
   "source": []
  }
 ],
 "metadata": {
  "kernelspec": {
   "display_name": "Python 3",
   "language": "python",
   "name": "python3"
  },
  "language_info": {
   "codemirror_mode": {
    "name": "ipython",
    "version": 3
   },
   "file_extension": ".py",
   "mimetype": "text/x-python",
   "name": "python",
   "nbconvert_exporter": "python",
   "pygments_lexer": "ipython3",
   "version": "3.7.4"
  }
 },
 "nbformat": 4,
 "nbformat_minor": 2
}
